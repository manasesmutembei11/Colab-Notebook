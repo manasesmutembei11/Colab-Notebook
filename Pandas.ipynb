{
  "nbformat": 4,
  "nbformat_minor": 0,
  "metadata": {
    "colab": {
      "provenance": [],
      "authorship_tag": "ABX9TyO32CSwpYTE7Jj2Vsw2Nphs",
      "include_colab_link": true
    },
    "kernelspec": {
      "name": "python3",
      "display_name": "Python 3"
    },
    "language_info": {
      "name": "python"
    }
  },
  "cells": [
    {
      "cell_type": "markdown",
      "metadata": {
        "id": "view-in-github",
        "colab_type": "text"
      },
      "source": [
        "<a href=\"https://colab.research.google.com/github/manasesmutembei11/Colab-Notebook/blob/main/Pandas.ipynb\" target=\"_parent\"><img src=\"https://colab.research.google.com/assets/colab-badge.svg\" alt=\"Open In Colab\"/></a>"
      ]
    },
    {
      "cell_type": "code",
      "execution_count": 23,
      "metadata": {
        "colab": {
          "base_uri": "https://localhost:8080/"
        },
        "id": "OKUVCSB-Yg2y",
        "outputId": "90eec59c-a512-4c50-93b8-f00c6424ac12"
      },
      "outputs": [
        {
          "output_type": "stream",
          "name": "stdout",
          "text": [
            "Tom      8\n",
            "Kris     2\n",
            "Ahmad    5\n",
            "Beau     6\n",
            "dtype: int64\n"
          ]
        }
      ],
      "source": [
        "import pandas as pd\n",
        "import numpy as np\n",
        "import csv as csv\n",
        "import matplotlib.pyplot as plt\n",
        "\n",
        "\n",
        "certificates_earned = pd.Series(\n",
        "    [8, 2, 5, 6],\n",
        "    index=['Tom', 'Kris', 'Ahmad', 'Beau']\n",
        ")\n",
        "\n",
        "print(certificates_earned)"
      ]
    },
    {
      "cell_type": "code",
      "source": [
        "print(certificates_earned[certificates_earned > 5])"
      ],
      "metadata": {
        "colab": {
          "base_uri": "https://localhost:8080/"
        },
        "id": "7WanPmWGZ4li",
        "outputId": "b763a754-eb46-4a2e-ab3d-82a9c3d494dc"
      },
      "execution_count": 2,
      "outputs": [
        {
          "output_type": "stream",
          "name": "stdout",
          "text": [
            "Tom     8\n",
            "Beau    6\n",
            "dtype: int64\n"
          ]
        }
      ]
    },
    {
      "cell_type": "code",
      "source": [
        "certificates_earned = pd.DataFrame({\n",
        "    'Certificates': [8, 2, 5, 6],\n",
        "    'Time (in months)': [16, 5, 9, 12]\n",
        "})\n",
        "\n",
        "certificates_earned.index = ['Tom', 'Kris', 'Ahmad', 'Beau']\n",
        "\n",
        "print(certificates_earned.iloc[2])"
      ],
      "metadata": {
        "colab": {
          "base_uri": "https://localhost:8080/"
        },
        "id": "Q8D1mhHMcG9N",
        "outputId": "91f83901-5d7c-4fbf-b22e-139d554ae144"
      },
      "execution_count": 3,
      "outputs": [
        {
          "output_type": "stream",
          "name": "stdout",
          "text": [
            "Certificates        5\n",
            "Time (in months)    9\n",
            "Name: Ahmad, dtype: int64\n"
          ]
        }
      ]
    },
    {
      "cell_type": "code",
      "source": [
        "certificates_earned = pd.DataFrame({\n",
        "    'Certificates': [8, 2, 5, 6],\n",
        "    'Time (in months)': [16, 5, 9, 12]\n",
        "})\n",
        "names = ['Tom', 'Kris', 'Ahmad', 'Beau']\n",
        "\n",
        "certificates_earned.index = names\n",
        "longest_streak = pd.Series([13, 11, 9, 7], index=names)\n",
        "certificates_earned['Longest streak'] = longest_streak\n",
        "\n",
        "certificates_earned['Certificates per month'] = round(\n",
        "    certificates_earned['Certificates'] /\n",
        "    certificates_earned['Time (in months)'], 2\n",
        ")\n",
        "\n",
        "print(certificates_earned)"
      ],
      "metadata": {
        "colab": {
          "base_uri": "https://localhost:8080/"
        },
        "id": "6q00r1LYe0UA",
        "outputId": "d19197cb-bece-43d1-c224-820de5f0b1f3"
      },
      "execution_count": 8,
      "outputs": [
        {
          "output_type": "stream",
          "name": "stdout",
          "text": [
            "       Certificates  Time (in months)  Longest streak  Certificates per month\n",
            "Tom               8                16              13                    0.50\n",
            "Kris              2                 5              11                    0.40\n",
            "Ahmad             5                 9               9                    0.56\n",
            "Beau              6                12               7                    0.50\n"
          ]
        }
      ]
    },
    {
      "cell_type": "code",
      "source": [
        "s = pd.Series(['a', 3, np.nan, 1, np.nan])\n",
        "\n",
        "print(s.notnull().sum())\n"
      ],
      "metadata": {
        "colab": {
          "base_uri": "https://localhost:8080/"
        },
        "id": "cRMq-4yljF-o",
        "outputId": "1eb2a7a4-6de0-4048-e66f-98f60d8ecc8e"
      },
      "execution_count": 24,
      "outputs": [
        {
          "output_type": "stream",
          "name": "stdout",
          "text": [
            "3\n"
          ]
        }
      ]
    },
    {
      "cell_type": "code",
      "source": [
        "s = pd.Series([np.nan, 1, 2, np.nan, 3])\n",
        "s = s.fillna(method='ffill')\n",
        "\n",
        "print(s)"
      ],
      "metadata": {
        "colab": {
          "base_uri": "https://localhost:8080/"
        },
        "id": "3kNIL4fvrrzX",
        "outputId": "bd5e4042-2924-46d5-fde8-4686f65bfb3e"
      },
      "execution_count": 25,
      "outputs": [
        {
          "output_type": "stream",
          "name": "stdout",
          "text": [
            "0    NaN\n",
            "1    1.0\n",
            "2    2.0\n",
            "3    2.0\n",
            "4    3.0\n",
            "dtype: float64\n"
          ]
        },
        {
          "output_type": "stream",
          "name": "stderr",
          "text": [
            "<ipython-input-25-e6fb4d5694fe>:2: FutureWarning: Series.fillna with 'method' is deprecated and will raise in a future version. Use obj.ffill() or obj.bfill() instead.\n",
            "  s = s.fillna(method='ffill')\n"
          ]
        }
      ]
    }
  ]
}