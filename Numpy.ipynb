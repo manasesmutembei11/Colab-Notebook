{
  "nbformat": 4,
  "nbformat_minor": 0,
  "metadata": {
    "colab": {
      "provenance": [],
      "authorship_tag": "ABX9TyPl494fbJG2lY7zvFKKNcoG",
      "include_colab_link": true
    },
    "kernelspec": {
      "name": "python3",
      "display_name": "Python 3"
    },
    "language_info": {
      "name": "python"
    }
  },
  "cells": [
    {
      "cell_type": "markdown",
      "metadata": {
        "id": "view-in-github",
        "colab_type": "text"
      },
      "source": [
        "<a href=\"https://colab.research.google.com/github/manasesmutembei11/Colab-Notebook/blob/main/Numpy.ipynb\" target=\"_parent\"><img src=\"https://colab.research.google.com/assets/colab-badge.svg\" alt=\"Open In Colab\"/></a>"
      ]
    },
    {
      "cell_type": "code",
      "execution_count": 2,
      "metadata": {
        "colab": {
          "base_uri": "https://localhost:8080/"
        },
        "id": "o7Smq669P9WN",
        "outputId": "7bef4a41-60d1-4716-ea29-8f4f33f45b74"
      },
      "outputs": [
        {
          "output_type": "execute_result",
          "data": {
            "text/plain": [
              "array([20, 21, 22, 23, 24])"
            ]
          },
          "metadata": {},
          "execution_count": 2
        }
      ],
      "source": [
        "import numpy as np\n",
        "a = np.arange(5)\n",
        "a + 20"
      ]
    },
    {
      "cell_type": "code",
      "source": [
        "a = np.arange(5)\n",
        "\n",
        "print(a <= 3)"
      ],
      "metadata": {
        "colab": {
          "base_uri": "https://localhost:8080/"
        },
        "id": "F3DSnPloTR4X",
        "outputId": "9e9f8934-f11d-4f7d-811a-ea4edb730fb1"
      },
      "execution_count": null,
      "outputs": [
        {
          "output_type": "stream",
          "name": "stdout",
          "text": [
            "[ True  True  True  True False]\n"
          ]
        }
      ]
    },
    {
      "cell_type": "code",
      "source": [
        "b = np.array([[1.0,2.0,3.0],[3.0,4.0,5.0]])\n",
        "print(b)"
      ],
      "metadata": {
        "id": "_uutim1QgZiC",
        "outputId": "47e60023-41cd-41c4-a5ab-391a382c0f1e",
        "colab": {
          "base_uri": "https://localhost:8080/"
        }
      },
      "execution_count": 3,
      "outputs": [
        {
          "output_type": "stream",
          "name": "stdout",
          "text": [
            "[[1. 2. 3.]\n",
            " [3. 4. 5.]]\n"
          ]
        }
      ]
    },
    {
      "cell_type": "code",
      "source": [
        "a = np.array([[1, 2, 3, 4, 5], [6, 7, 8, 9, 10]])\n",
        "\n",
        "print(np.full_like(a, 100))"
      ],
      "metadata": {
        "id": "kpEyK_u7jJhT",
        "outputId": "7bf81117-072d-4034-d9e4-5f8124e010f0",
        "colab": {
          "base_uri": "https://localhost:8080/"
        }
      },
      "execution_count": 4,
      "outputs": [
        {
          "output_type": "stream",
          "name": "stdout",
          "text": [
            "[[100 100 100 100 100]\n",
            " [100 100 100 100 100]]\n"
          ]
        }
      ]
    },
    {
      "cell_type": "code",
      "source": [
        "output = np.ones((7, 7))\n",
        "\n",
        "z = np.zeros((5, 5))\n",
        "z[3, 3] = 5\n",
        "\n",
        "output[1:-1, 1:-1] = z"
      ],
      "metadata": {
        "id": "bsD15Vr6lphG"
      },
      "execution_count": 9,
      "outputs": []
    },
    {
      "cell_type": "code",
      "source": [
        "import numpy as np\n",
        "\n",
        "a = np.array([1, 2, 3, 4, 5])\n",
        "b = a\n",
        "b[2] = 20\n",
        "print(b)"
      ],
      "metadata": {
        "id": "hhga-iINmSrk",
        "outputId": "30e899af-e61b-4eb4-eb77-123086e19a7d",
        "colab": {
          "base_uri": "https://localhost:8080/"
        }
      },
      "execution_count": 12,
      "outputs": [
        {
          "output_type": "stream",
          "name": "stdout",
          "text": [
            "[ 1  2 20  4  5]\n"
          ]
        }
      ]
    },
    {
      "cell_type": "code",
      "source": [
        "a = np.array(([1, 2, 3, 4, 5], [6, 7, 8, 9, 10]))\n",
        "b = np.max(a, axis=1).sum()\n",
        "print(b)"
      ],
      "metadata": {
        "id": "iXhi__BOm8UB",
        "outputId": "08d2808a-aa08-42a5-afa5-5e79f87b0b88",
        "colab": {
          "base_uri": "https://localhost:8080/"
        }
      },
      "execution_count": 13,
      "outputs": [
        {
          "output_type": "stream",
          "name": "stdout",
          "text": [
            "15\n"
          ]
        }
      ]
    }
  ]
}